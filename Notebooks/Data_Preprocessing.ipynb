{
  "cells": [
    {
      "cell_type": "code",
      "execution_count": 1,
      "metadata": {
        "id": "_I5etAOcuchx"
      },
      "outputs": [],
      "source": [
        "import pandas as pd\n",
        "import matplotlib.pyplot as plt\n",
        "import seaborn as sns\n",
        "import nltk\n",
        "from nltk.corpus import stopwords\n",
        "from nltk.tokenize import word_tokenize\n",
        "from nltk.stem import WordNetLemmatizer\n",
        "from nltk.util import ngrams\n",
        "from collections import Counter\n",
        "import string\n",
        "import re\n",
        "from better_profanity import profanity\n"
      ]
    },
    {
      "cell_type": "code",
      "execution_count": 2,
      "metadata": {
        "colab": {
          "base_uri": "https://localhost:8080/"
        },
        "id": "kbEFCl4Pvr_b",
        "outputId": "9d79f66c-ce88-43c3-d1ec-8dc1069b7560"
      },
      "outputs": [
        {
          "name": "stderr",
          "output_type": "stream",
          "text": [
            "[nltk_data] Downloading package punkt to /root/nltk_data...\n",
            "[nltk_data]   Unzipping tokenizers/punkt.zip.\n",
            "[nltk_data] Downloading package wordnet to /root/nltk_data...\n",
            "[nltk_data] Downloading package stopwords to /root/nltk_data...\n",
            "[nltk_data]   Unzipping corpora/stopwords.zip.\n"
          ]
        },
        {
          "data": {
            "text/plain": [
              "True"
            ]
          },
          "execution_count": 2,
          "metadata": {},
          "output_type": "execute_result"
        }
      ],
      "source": [
        "# Download necessary NLTK data\n",
        "nltk.download('punkt')\n",
        "nltk.download('wordnet')\n",
        "nltk.download('stopwords')"
      ]
    },
    {
      "cell_type": "code",
      "execution_count": 14,
      "metadata": {
        "id": "pyqwZ4xUB1Pn"
      },
      "outputs": [],
      "source": [
        "reviews_df=pd.DataFrame()"
      ]
    },
    {
      "cell_type": "code",
      "execution_count": 17,
      "metadata": {
        "colab": {
          "base_uri": "https://localhost:8080/"
        },
        "id": "1lw3_7KGvump",
        "outputId": "7d304b36-8e42-4291-a8ba-aef9b1114848"
      },
      "outputs": [
        {
          "name": "stdout",
          "output_type": "stream",
          "text": [
            "                                                Text  y\n",
            "0  explanation why the edits made under my userna...  0\n",
            "1  daww he matches this background colour i am se...  0\n",
            "2  hey man i am really not trying to edit war it ...  0\n",
            "3   more i can not make any real suggestions on i...  0\n",
            "4  you sir are my hero any chance you remember wh...  0\n"
          ]
        }
      ],
      "source": [
        "train1 = pd.read_csv('/content/train1.csv')\n",
        "train2 = pd.read_csv('/content/train2.csv')\n",
        "train3 = pd.read_csv('/content/train3.csv')\n",
        "\n",
        "reviews_df = pd.concat([train1, train2, train3], ignore_index=True)\n",
        "\n",
        "print(reviews_df.head())"
      ]
    },
    {
      "cell_type": "code",
      "execution_count": 18,
      "metadata": {
        "colab": {
          "base_uri": "https://localhost:8080/"
        },
        "id": "skM0OZiTwgmo",
        "outputId": "48df5914-45ec-4c8c-8256-1c4bf3184ea1"
      },
      "outputs": [
        {
          "data": {
            "text/plain": [
              "163571"
            ]
          },
          "execution_count": 18,
          "metadata": {},
          "output_type": "execute_result"
        }
      ],
      "source": [
        "len(reviews_df)"
      ]
    },
    {
      "cell_type": "code",
      "execution_count": 19,
      "metadata": {
        "colab": {
          "base_uri": "https://localhost:8080/"
        },
        "id": "zPTNsHmFwjtq",
        "outputId": "35057e8c-b437-4313-9aae-5cf5f7f49603"
      },
      "outputs": [
        {
          "data": {
            "text/plain": [
              "y\n",
              "0    146245\n",
              "1     17326\n",
              "Name: count, dtype: int64"
            ]
          },
          "execution_count": 19,
          "metadata": {},
          "output_type": "execute_result"
        }
      ],
      "source": [
        "reviews_df['y'].value_counts()"
      ]
    },
    {
      "cell_type": "code",
      "execution_count": 20,
      "metadata": {
        "id": "FrVquMpdxi29"
      },
      "outputs": [],
      "source": [
        "stopwords_set = set(stopwords.words(\"english\"))\n",
        "lemmatizer = WordNetLemmatizer()\n",
        "def preprocess_text(text):\n",
        "    # Lowercase the text\n",
        "    text = text.lower()\n",
        "\n",
        "    # Define contraction patterns\n",
        "    cont_patterns = [\n",
        "        ('(W|w)on\\'t', 'will not'),\n",
        "        ('(C|c)an\\'t', 'can not'),\n",
        "        ('(I|i)\\'m', 'i am'),\n",
        "        ('(A|a)in\\'t', 'is not'),\n",
        "        ('(\\w+)\\'ll', '\\g<1> will'),\n",
        "        ('(\\w+)n\\'t', '\\g<1> not'),\n",
        "        ('(\\w+)\\'ve', '\\g<1> have'),\n",
        "        ('(\\w+)\\'s', '\\g<1> is'),\n",
        "        ('(\\w+)\\'re', '\\g<1> are'),\n",
        "        ('(\\w+)\\'d', '\\g<1> would'),\n",
        "    ]\n",
        "\n",
        "    # Remove contractions\n",
        "    patterns = [(re.compile(regex), repl) for regex, repl in cont_patterns]\n",
        "    for pattern, repl in patterns:\n",
        "        text = re.sub(pattern, repl, text)\n",
        "\n",
        "    # Remove URLs\n",
        "    text = re.sub(r\"http\\S+\", \"\", text)\n",
        "\n",
        "    # Remove non-alphanumeric characters\n",
        "    text = re.sub('[^a-zA-Z]', ' ', text)\n",
        "\n",
        "    # Tokenize the text\n",
        "    tokens = word_tokenize(text)\n",
        "\n",
        "    # Remove stopwords and lemmatize\n",
        "    filtered_tokens = [lemmatizer.lemmatize(word) for word in tokens if word not in stopwords_set]\n",
        "\n",
        "    # Join the tokens back into a single string\n",
        "    processed_text = ' '.join(filtered_tokens)\n",
        "\n",
        "    return processed_text"
      ]
    },
    {
      "cell_type": "code",
      "execution_count": 21,
      "metadata": {
        "colab": {
          "base_uri": "https://localhost:8080/"
        },
        "id": "HNA6-jrXxkwE",
        "outputId": "a058c1eb-4cb3-4ec6-f175-c0d6004fc42e"
      },
      "outputs": [
        {
          "name": "stdout",
          "output_type": "stream",
          "text": [
            "Original Text:\n",
            "explanation why the edits made under my username hardcore metallica fan were reverted they were not vandalisms just closure on some gas after i voted at new york dolls fac and please do not remove the template from the talk page since i am retired now\n",
            "\n",
            "Processed Text:\n",
            "explanation edits made username hardcore metallica fan reverted vandalism closure gas voted new york doll fac please remove template talk page since retired\n"
          ]
        }
      ],
      "source": [
        "first_row_processed_text = preprocess_text(reviews_df['Text'][0])\n",
        "\n",
        "print(\"Original Text:\")\n",
        "print(reviews_df['Text'][0])\n",
        "print(\"\\nProcessed Text:\")\n",
        "print(first_row_processed_text)\n"
      ]
    },
    {
      "cell_type": "code",
      "execution_count": 22,
      "metadata": {
        "colab": {
          "base_uri": "https://localhost:8080/"
        },
        "id": "xTj0BkYp0AjA",
        "outputId": "7d77559d-1e9c-4919-9640-e4a44c3c49aa"
      },
      "outputs": [
        {
          "name": "stdout",
          "output_type": "stream",
          "text": [
            "       Text  y\n",
            "4482    NaN  0\n",
            "6300    NaN  0\n",
            "17311   NaN  0\n",
            "52442   NaN  0\n",
            "53787   NaN  0\n",
            "61758   NaN  0\n",
            "82681   NaN  0\n",
            "160781  NaN  0\n"
          ]
        }
      ],
      "source": [
        "# Filter rows where the 'Text' column contains float values\n",
        "float_reviews = reviews_df[reviews_df['Text'].apply(lambda x: isinstance(x, float))]\n",
        "\n",
        "print(float_reviews)"
      ]
    },
    {
      "cell_type": "code",
      "execution_count": 23,
      "metadata": {
        "colab": {
          "base_uri": "https://localhost:8080/"
        },
        "id": "gCvDCZRm0feh",
        "outputId": "05570f9a-87b3-48a3-fc2f-373ccc00d189"
      },
      "outputs": [
        {
          "name": "stdout",
          "output_type": "stream",
          "text": [
            "Unique data types present in the 'Text' column other than string:\n",
            "<class 'float'>\n"
          ]
        }
      ],
      "source": [
        "non_string_values = reviews_df[~reviews_df['Text'].apply(lambda x: isinstance(x, str))]\n",
        "\n",
        "unique_data_types = non_string_values['Text'].apply(type).unique()\n",
        "\n",
        "print(\"Unique data types present in the 'Text' column other than string:\")\n",
        "\n",
        "for data_type in unique_data_types:\n",
        "    print(data_type)\n"
      ]
    },
    {
      "cell_type": "code",
      "execution_count": 24,
      "metadata": {
        "id": "wuLZHhz_0q16"
      },
      "outputs": [],
      "source": [
        "# Removing rows with NaN values\n",
        "reviews_df = reviews_df.dropna(subset=['Text'])"
      ]
    },
    {
      "cell_type": "code",
      "execution_count": 25,
      "metadata": {
        "colab": {
          "base_uri": "https://localhost:8080/"
        },
        "id": "TR3Qhs850t85",
        "outputId": "0560bee3-2ba0-4725-c46b-72af6eedb43e"
      },
      "outputs": [
        {
          "data": {
            "text/plain": [
              "163563"
            ]
          },
          "execution_count": 25,
          "metadata": {},
          "output_type": "execute_result"
        }
      ],
      "source": [
        "len(reviews_df)"
      ]
    },
    {
      "cell_type": "code",
      "execution_count": 26,
      "metadata": {
        "id": "ckOKSHkQxoTr"
      },
      "outputs": [],
      "source": [
        "reviews_df['clean_reviews'] = reviews_df['Text'].apply(preprocess_text)"
      ]
    },
    {
      "cell_type": "code",
      "execution_count": 27,
      "metadata": {
        "colab": {
          "base_uri": "https://localhost:8080/"
        },
        "id": "n-OlN18C0tJE",
        "outputId": "f0c84f72-a953-4527-f84c-4af0408a08b6"
      },
      "outputs": [
        {
          "data": {
            "text/plain": [
              "0    explanation edits made username hardcore metal...\n",
              "1    daww match background colour seemingly stuck t...\n",
              "2    hey man really trying edit war guy constantly ...\n",
              "3    make real suggestion improvement wondered sect...\n",
              "4                        sir hero chance remember page\n",
              "Name: clean_reviews, dtype: object"
            ]
          },
          "execution_count": 27,
          "metadata": {},
          "output_type": "execute_result"
        }
      ],
      "source": [
        "reviews_df['clean_reviews'].head()"
      ]
    },
    {
      "cell_type": "code",
      "execution_count": null,
      "metadata": {
        "id": "ZNJu8ixGVc0Y"
      },
      "outputs": [],
      "source": [
        "reviews_df.to_csv('/content/reviews_processed.csv',index=False)"
      ]
    },
    {
      "cell_type": "code",
      "execution_count": 28,
      "metadata": {
        "id": "x_2PosirTvRw"
      },
      "outputs": [],
      "source": [
        "#Extracting Trigrams\n",
        "def extract_trigrams(text):\n",
        "    tokens = word_tokenize(text)\n",
        "    trigrams = list(ngrams(tokens, 3))\n",
        "    return trigrams"
      ]
    },
    {
      "cell_type": "code",
      "execution_count": 30,
      "metadata": {
        "id": "8GHd5-tMTwXV"
      },
      "outputs": [],
      "source": [
        "reviews_df['trigrams'] = reviews_df['clean_reviews'].apply(extract_trigrams)"
      ]
    },
    {
      "cell_type": "code",
      "execution_count": 31,
      "metadata": {
        "id": "EfbGF4eVXS6s"
      },
      "outputs": [],
      "source": [
        "# Counting Frequency\n",
        "all_trigrams = [trigram for review in reviews_df['trigrams'] for trigram in review]\n",
        "\n",
        "trigram_freq = Counter(all_trigrams)"
      ]
    },
    {
      "cell_type": "code",
      "execution_count": 36,
      "metadata": {
        "colab": {
          "base_uri": "https://localhost:8080/"
        },
        "id": "gsSe4sYBXkXq",
        "outputId": "9ad85100-7a12-4fe7-cdf9-701f741dcba6"
      },
      "outputs": [
        {
          "name": "stdout",
          "output_type": "stream",
          "text": [
            "10 Most Common Trigrams:\n",
            "('nigger', 'nigger', 'nigger'): 2009\n",
            "('fuck', 'fuck', 'fuck'): 1694\n",
            "('hi', 'moron', 'hi'): 1468\n",
            "('moron', 'hi', 'moron'): 1466\n",
            "('criterion', 'speedy', 'deletion'): 1441\n",
            "('article', 'talk', 'page'): 1439\n",
            "('faggot', 'faggot', 'faggot'): 1372\n",
            "('lol', 'lol', 'lol'): 1273\n",
            "('pig', 'pig', 'pig'): 1248\n",
            "('fat', 'jew', 'fat'): 1226\n"
          ]
        }
      ],
      "source": [
        "# 10 Most Common Trigrams\n",
        "print(\"10 Most Common Trigrams:\")\n",
        "for trigram, freq in trigram_freq.most_common(10):\n",
        "    print(f\"{trigram}: {freq}\")"
      ]
    },
    {
      "cell_type": "code",
      "execution_count": 38,
      "metadata": {
        "colab": {
          "base_uri": "https://localhost:8080/",
          "height": 424
        },
        "id": "-e1n4Da-Xn2p",
        "outputId": "eece2fc8-c8c4-4a71-b16c-f188d51c0c83"
      },
      "outputs": [
        {
          "data": {
            "image/png": "[encoded data removed]",
            "text/plain": [
              "<Figure size 1200x600 with 1 Axes>"
            ]
          },
          "metadata": {},
          "output_type": "display_data"
        }
      ],
      "source": [
        "# Plotting the 10 most common trigrams\n",
        "trigram_df = pd.DataFrame(trigram_freq.most_common(10), columns=['Trigram', 'Frequency'])\n",
        "trigram_df['Trigram'] = trigram_df['Trigram'].apply(lambda x: ' '.join(x))\n",
        "\n",
        "plt.figure(figsize=(12, 6))\n",
        "sns.barplot(x='Frequency', y='Trigram', data=trigram_df)\n",
        "plt.title('Top 10 Most Common Trigrams')\n",
        "plt.xlabel('Frequency')\n",
        "plt.ylabel('Trigram')\n",
        "plt.show()"
      ]
    }
  ],
  "metadata": {
    "colab": {
      "provenance": []
    },
    "kernelspec": {
      "display_name": ".venv",
      "language": "python",
      "name": "python3"
    },
    "language_info": {
      "codemirror_mode": {
        "name": "ipython",
        "version": 3
      },
      "file_extension": ".py",
      "mimetype": "text/x-python",
      "name": "python",
      "nbconvert_exporter": "python",
      "pygments_lexer": "ipython3",
      "version": "3.12.7"
    }
  },
  "nbformat": 4,
  "nbformat_minor": 0
}
